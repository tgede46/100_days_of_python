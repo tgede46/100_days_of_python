{
 "cells": [
  {
   "cell_type": "markdown",
   "metadata": {},
   "source": [
    "Contrôlez le déroulement de votre programme avec des conditions"
   ]
  },
  {
   "cell_type": "markdown",
   "metadata": {},
   "source": [
    "Contexte\n",
    "Si vous faites cette activité, vous allez progresser. Sinon, vous allez rater une super opportunité. C’est le moment de pratiquer avec des conditions ! 😁\n",
    "\n",
    "Vous allez créer une calculatrice qui permettra d'effectuer une opération simple entre deux nombres. Vous devrez donc créer deux variables pour stocker les deux nombres, et une variable pour stocker le symbole qui représentera l'opération à effectuer. Vous devrez d'abord créer une structure conditionnelle qui vérifiera la validité des variables et du symbole. Ensuite, vous devrez créer une deuxième structure conditionnelle pour effectuer l'opération en fonction du symbole choisi. Ne vous inquiétez pas, l’exercice sera guidé par des questions. C’est parti ! À vous de jouer !\n",
    "\n",
    "\n",
    "Consignes\n",
    "Créez deux variables  nombre_a_gauche  et  nombre_a_droite  , et affectez-leur chacune un nombre entier.\n",
    "\n",
    "Créez une variable  symbole  pour stocker le symbole d'opération (+, -, * ou /).\n",
    "\n",
    "Créez une dernière variable  resultat  initialisée à 0, qui contiendra ensuite le résultat du calcul.\n",
    "\n",
    "Vérifiez que les deux variables  nombre_a_gauche  et  nombre_a_droite  sont bien des nombres entiers. Si l'une ou les deux ne sont pas des entiers, affichez un message d'erreur correspondant et quittez le programme. (Aide : Utiliser la fonction  isinstance()  )\n",
    "\n",
    "Vérifiez que le symbole stocké dans la variable  symbole  correspond bien à une des 4 opérations autorisées (+, -, * ou /) à l’aide du  match. Si le symbole n'est pas correct, affichez un message d'erreur correspondant, et quittez le programme.\n",
    "\n",
    "Attention, il est impossible de diviser un nombre par 0, il faut donc prévoir une structure conditionnelle supplémentaire pour vérifier ce cas dans la structure  match. Utilisez les conditions if-else pour réaliser cette opération ; s’il y a une division par 0, affichez  Erreur: impossible de diviser par zéro. , sinon stockez le calcul dans la variable  resultat.\n",
    "\n",
    "Affichez le résultat contenu dans la variable  resultat."
   ]
  },
  {
   "cell_type": "code",
   "execution_count": 5,
   "metadata": {},
   "outputs": [
    {
     "name": "stdout",
     "output_type": "stream",
     "text": [
      "34\n"
     ]
    }
   ],
   "source": [
    "nombre_a_droite = 19\n",
    "nombre_a_gauche = 15\n",
    "symbole='+'\n",
    "resultat=0\n",
    "if not isinstance(nombre_a_gauche,int) and not isinstance(nombre_a_droite,int):\n",
    "    print(\"le nombre saisi ne sont pas des entiers\")\n",
    "else:\n",
    "    match symbole:\n",
    "        case '+':\n",
    "            resultat=nombre_a_droite+nombre_a_gauche\n",
    "        case '-':\n",
    "            resultat=nombre_a_droite-nombre_a_gauche\n",
    "        case '*':\n",
    "            resultat=nombre_a_droite*nombre_a_gauche\n",
    "        case '/':\n",
    "            if nombre_a_gauche==0 or nombre_a_droite==0:\n",
    "                print(\"division par zero imposible\")\n",
    "            else:\n",
    "                resultat=nombre_a_droite/nombre_a_gauche\n",
    "        case _:\n",
    "            print(\"symbole non reconnu\")\n",
    "\n",
    "print(resultat)\n"
   ]
  },
  {
   "cell_type": "code",
   "execution_count": null,
   "metadata": {},
   "outputs": [],
   "source": []
  }
 ],
 "metadata": {
  "kernelspec": {
   "display_name": "base",
   "language": "python",
   "name": "python3"
  },
  "language_info": {
   "codemirror_mode": {
    "name": "ipython",
    "version": 3
   },
   "file_extension": ".py",
   "mimetype": "text/x-python",
   "name": "python",
   "nbconvert_exporter": "python",
   "pygments_lexer": "ipython3",
   "version": "3.12.4"
  }
 },
 "nbformat": 4,
 "nbformat_minor": 2
}
