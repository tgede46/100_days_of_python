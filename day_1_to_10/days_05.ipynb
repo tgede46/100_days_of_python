{
 "cells": [
  {
   "cell_type": "markdown",
   "metadata": {},
   "source": [
    "Contexte\n",
    "Vous allez maintenant écrire un programme qui calcule différentes statistiques pour un ensemble de nombres fourni par l'utilisateur. Cette tâche vous permettra de réviser les listes et d'aborder la nouvelle notion de ce chapitre : les boucles.\n",
    "\n",
    "\n",
    "Consignes\n",
    "Demandez à l'utilisateur de saisir une liste de nombres séparés par des virgules (par exemple : 1,2,3,4), et affichez cette liste.\n",
    "\n",
    "Calculez et affichez la somme des nombres dans la liste.\n",
    "\n",
    "Calculez et affichez la moyenne des nombres dans la liste.\n",
    "\n",
    "Calculez et affichez le nombre de nombres dans la liste qui sont supérieurs à la moyenne.\n",
    "\n",
    "Calculez et affichez le nombre de nombres dans la liste qui sont pairs."
   ]
  },
  {
   "cell_type": "code",
   "execution_count": 17,
   "metadata": {},
   "outputs": [
    {
     "name": "stdout",
     "output_type": "stream",
     "text": [
      "78,30,32,2,93,63,5\n",
      "['78', '30', '32', '2', '93', '63', '5']\n",
      "[78, 30, 32, 2, 93, 63, 5]\n",
      "la somme de la liste est 303\n",
      "la moyenne de la liste est 43.285714285714285\n",
      "[63] sont superieur a la moyenne\n",
      "[2] sont pair\n",
      "[78, 30, 32, 2, 93, 63, 5]\n"
     ]
    }
   ],
   "source": [
    "nombres = input(\"saisie les nombres:\")\n",
    "print(nombres)\n",
    "nombres = nombres.split(',')\n",
    "print(nombres)\n",
    "nombres = [int(x) for x in nombres]\n",
    "print(nombres)\n",
    "somme = sum(nombres)\n",
    "print(f\"la somme de la liste est {somme}\")\n",
    "moyenne = somme / len(nombres)\n",
    "print(f\"la moyenne de la liste est {moyenne}\")\n",
    "for i in range(len(nombres)):\n",
    "    if nombres[i] >  moyenne:\n",
    "        nombres_superieur = []\n",
    "        nombres_superieur.append(nombres[i])\n",
    "print(f\"{nombres_superieur} sont superieur a la moyenne\")\n",
    "for j in range(len(nombres)):\n",
    "    if nombres[j]%2==0:\n",
    "        nombres_pair = []\n",
    "        nombres_pair.append(nombres[j])\n",
    "print(f\"{nombres_pair} sont pair\")\n",
    "print(nombres)"
   ]
  },
  {
   "cell_type": "code",
   "execution_count": null,
   "metadata": {},
   "outputs": [],
   "source": []
  }
 ],
 "metadata": {
  "kernelspec": {
   "display_name": "base",
   "language": "python",
   "name": "python3"
  },
  "language_info": {
   "codemirror_mode": {
    "name": "ipython",
    "version": 3
   },
   "file_extension": ".py",
   "mimetype": "text/x-python",
   "name": "python",
   "nbconvert_exporter": "python",
   "pygments_lexer": "ipython3",
   "version": "3.11.11"
  }
 },
 "nbformat": 4,
 "nbformat_minor": 2
}
