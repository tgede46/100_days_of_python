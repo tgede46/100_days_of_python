{
 "cells": [
  {
   "cell_type": "markdown",
   "metadata": {},
   "source": [
    "Contexte\n",
    "Vous allez maintenant écrire un programme qui calcule différentes statistiques pour un ensemble de nombres fourni par l'utilisateur. Cette tâche vous permettra de réviser les listes et d'aborder la nouvelle notion de ce chapitre : les boucles.\n",
    "\n",
    "\n",
    "Consignes\n",
    "Demandez à l'utilisateur de saisir une liste de nombres séparés par des virgules (par exemple : 1,2,3,4), et affichez cette liste.\n",
    "\n",
    "Calculez et affichez la somme des nombres dans la liste.\n",
    "\n",
    "Calculez et affichez la moyenne des nombres dans la liste.\n",
    "\n",
    "Calculez et affichez le nombre de nombres dans la liste qui sont supérieurs à la moyenne.\n",
    "\n",
    "Calculez et affichez le nombre de nombres dans la liste qui sont pairs."
   ]
  },
  {
   "cell_type": "code",
   "execution_count": null,
   "metadata": {},
   "outputs": [],
   "source": [
    "inpu=int(list()) \n",
    "print(inpu)"
   ]
  }
 ],
 "metadata": {
  "kernelspec": {
   "display_name": "base",
   "language": "python",
   "name": "python3"
  },
  "language_info": {
   "name": "python",
   "version": "3.12.4"
  }
 },
 "nbformat": 4,
 "nbformat_minor": 2
}
