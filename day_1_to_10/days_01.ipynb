{
 "cells": [
  {
   "cell_type": "markdown",
   "metadata": {},
   "source": [
    "declartion de variable"
   ]
  },
  {
   "cell_type": "markdown",
   "metadata": {},
   "source": [
    "Consignes\n",
    "Créez une variable nommée  nom  et attribuez-y votre nom.\n",
    "\n",
    "Créez une variable nommée  age  et attribuez-y votre âge.\n",
    "\n",
    "Affichez une phrase contenant votre nom et votre âge en utilisant les variables que vous venez de créer. Par exemple, \"Je m'appelle Jean et j'ai 25 ans.\"\n",
    "\n",
    "Modifiez la valeur de la variable  age  pour ajouter 10 ans à votre âge actuel.\n",
    "\n",
    "Affichez à nouveau la phrase contenant votre nom et votre âge en utilisant les variables mises à jour. Par exemple, \"Je m'appelle Jean et j'ai 35 ans maintenant.\"\n",
    "\n"
   ]
  },
  {
   "cell_type": "code",
   "execution_count": 7,
   "metadata": {},
   "outputs": [
    {
     "name": "stdout",
     "output_type": "stream",
     "text": [
      "je m'appelle DOUTI et j'ai 29 ans\n"
     ]
    }
   ],
   "source": [
    "nom = \"DOUTI\"\n",
    "age = 29\n",
    "print(f\"je m'appelle {nom} et j'ai {age} ans\")"
   ]
  },
  {
   "cell_type": "code",
   "execution_count": 8,
   "metadata": {},
   "outputs": [
    {
     "name": "stdout",
     "output_type": "stream",
     "text": [
      " je m'appelle DOUTI et j'ai 10 ans maintenant\n"
     ]
    }
   ],
   "source": [
    "age = +10\n",
    "print(f\" je m'appelle {nom} et j'ai {age} ans maintenant\")"
   ]
  },
  {
   "cell_type": "markdown",
   "metadata": {},
   "source": [
    "Contexte\n",
    "Dans cet exercice, nous allons consolider notre compréhension de l'utilisation des variables en Python en explorant les différents types de variables disponibles. Vous découvrirez comment déclarer et manipuler des variables de différents types, tels que les entiers, les nombres à virgule flottante, les chaînes de caractères et les booléens. En comprenant ces concepts fondamentaux, vous serez mieux préparé à aborder des tâches plus complexes impliquant la manipulation de données dans vos futurs projets Python.\n",
    "\n",
    "Consignes\n",
    "Définissez une variable nom contenant votre nom sous forme de chaîne de caractères.\n",
    "\n",
    "Définissez une variable age contenant votre âge sous forme d'un entier.\n",
    "\n",
    "Définissez une variable taille contenant votre taille sous forme d'un nombre à virgule flottante.\n",
    "\n",
    "Définissez une variable est_etudiant contenant une valeur booléenne et indiquant si vous êtes étudiant ou non.\n",
    "\n",
    "Utilisez la fonction print pour afficher les valeurs des variables précédemment définies.\n",
    "\n",
    "Utilisez la fonction type pour afficher les types des variables précédemment définies."
   ]
  },
  {
   "cell_type": "code",
   "execution_count": 10,
   "metadata": {},
   "outputs": [
    {
     "name": "stdout",
     "output_type": "stream",
     "text": [
      "koffi est age de 19 ans avec une taille de (1, 71)\n",
      "esr ce que c'est un etudiant? :True\n"
     ]
    }
   ],
   "source": [
    "nom =\"koffi\"\n",
    "age = 19\n",
    "taille =1,71\n",
    "est_etudiant=True\n",
    "print(f\"{nom} est age de {age} ans avec une taille de {taille}\")\n",
    "print(f\"esr ce que c'est un etudiant? :{est_etudiant}\")"
   ]
  },
  {
   "cell_type": "code",
   "execution_count": 13,
   "metadata": {},
   "outputs": [
    {
     "data": {
      "text/plain": [
       "str"
      ]
     },
     "execution_count": 13,
     "metadata": {},
     "output_type": "execute_result"
    }
   ],
   "source": [
    "type(nom)"
   ]
  },
  {
   "cell_type": "code",
   "execution_count": 14,
   "metadata": {},
   "outputs": [
    {
     "data": {
      "text/plain": [
       "int"
      ]
     },
     "execution_count": 14,
     "metadata": {},
     "output_type": "execute_result"
    }
   ],
   "source": [
    "type(age)"
   ]
  },
  {
   "cell_type": "code",
   "execution_count": 15,
   "metadata": {},
   "outputs": [
    {
     "data": {
      "text/plain": [
       "tuple"
      ]
     },
     "execution_count": 15,
     "metadata": {},
     "output_type": "execute_result"
    }
   ],
   "source": [
    "type(taille)"
   ]
  },
  {
   "cell_type": "code",
   "execution_count": 16,
   "metadata": {},
   "outputs": [
    {
     "data": {
      "text/plain": [
       "bool"
      ]
     },
     "execution_count": 16,
     "metadata": {},
     "output_type": "execute_result"
    }
   ],
   "source": [
    "type(est_etudiant)"
   ]
  }
 ],
 "metadata": {
  "kernelspec": {
   "display_name": "base",
   "language": "python",
   "name": "python3"
  },
  "language_info": {
   "codemirror_mode": {
    "name": "ipython",
    "version": 3
   },
   "file_extension": ".py",
   "mimetype": "text/x-python",
   "name": "python",
   "nbconvert_exporter": "python",
   "pygments_lexer": "ipython3",
   "version": "3.12.4"
  }
 },
 "nbformat": 4,
 "nbformat_minor": 2
}
