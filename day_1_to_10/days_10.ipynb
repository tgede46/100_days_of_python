{
 "cells": [
  {
   "cell_type": "markdown",
   "metadata": {},
   "source": [
    "Exo 11 : Distance entre plusieurs points\n",
    "Ecrivez une fonction qui prend une liste des nombres et qui retourne une liste qui contient la distance entre les différents nombres successifs.\n",
    "\n",
    "Exemple\n",
    "\n",
    "input : [65, 54, 59]\n",
    "output : [11, 5]"
   ]
  },
  {
   "cell_type": "code",
   "execution_count": 2,
   "metadata": {},
   "outputs": [
    {
     "data": {
      "text/plain": [
       "[0, -11, -6, 0, 5, 0]"
      ]
     },
     "execution_count": 2,
     "metadata": {},
     "output_type": "execute_result"
    }
   ],
   "source": [
    "def different(liste):\n",
    "    dif = []\n",
    "    for i in range(len(liste)):\n",
    "        for j in range(i,len(liste)):\n",
    "            dif.append(liste[j]-liste[i])\n",
    "    return dif\n",
    "\n",
    "different([65, 54, 59])\n",
    "# le code marche mais il est pas optimal"
   ]
  },
  {
   "cell_type": "markdown",
   "metadata": {},
   "source": [
    "Exo 12: Lettres successifs et combien d'occurences\n",
    "Ecrivez une fonction qui prend en input une chaine de caractères contenant des lettres et retourne une liste de tuple qui contient successivement chaque lettre et le nombre d'occurences successives. Exemple :\n",
    "\n",
    "input : 'aaaccdaad\"\n",
    "output : [(a,3), (c, 2), (d, 1), (a,2), (d, 1)]\n"
   ]
  },
  {
   "cell_type": "code",
   "execution_count": null,
   "metadata": {},
   "outputs": [],
   "source": [
    "def "
   ]
  }
 ],
 "metadata": {
  "kernelspec": {
   "display_name": "base",
   "language": "python",
   "name": "python3"
  },
  "language_info": {
   "codemirror_mode": {
    "name": "ipython",
    "version": 3
   },
   "file_extension": ".py",
   "mimetype": "text/x-python",
   "name": "python",
   "nbconvert_exporter": "python",
   "pygments_lexer": "ipython3",
   "version": "3.11.11"
  }
 },
 "nbformat": 4,
 "nbformat_minor": 2
}
