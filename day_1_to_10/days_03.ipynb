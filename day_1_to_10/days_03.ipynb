{
 "cells": [
  {
   "cell_type": "markdown",
   "metadata": {},
   "source": [
    "les dictionnaires "
   ]
  },
  {
   "cell_type": "markdown",
   "metadata": {},
   "source": [
    "les doictionnaires en python"
   ]
  },
  {
   "cell_type": "markdown",
   "metadata": {},
   "source": [
    "Contexte\n",
    "Maintenant que vous vous êtes familiarisé avec quelques opérations, pratiquez la manipulation de dictionnaire en utilisant toutes les méthodes vues précédemment. 😁\n",
    "\n",
    "Consignes\n",
    "Créez un dictionnaire appelé  fruits  avec les clés  pomme  ,  banane  et  orange  , et les valeurs  rouge  ,  jaune  et  orange  .\n",
    "\n",
    "Ajoutez la clé  kiwi  avec la valeur  vert  au dictionnaire  fruits  .\n",
    "\n",
    "Accédez à la valeur correspondant à la clé  banane  et stockez-la dans une variable appelée  couleur_banane  .\n",
    "\n",
    "Modifiez la valeur associée à la clé  pomme  pour  vert  .\n",
    "\n",
    "Supprimez la clé  banane  du dictionnaire  fruits  .\n",
    "\n",
    "Affichez les clés restantes dans le dictionnaire."
   ]
  },
  {
   "cell_type": "code",
   "execution_count": 3,
   "metadata": {},
   "outputs": [
    {
     "name": "stdout",
     "output_type": "stream",
     "text": [
      "{'pomme': 'rouge', 'banane': 'jaune', 'orange': 'orange'}\n"
     ]
    }
   ],
   "source": [
    "fruits ={\"pomme\":\"rouge\",\"banane\":\"jaune\",\"orange\":\"orange\"}\n",
    "print(fruits)"
   ]
  },
  {
   "cell_type": "code",
   "execution_count": null,
   "metadata": {},
   "outputs": [],
   "source": []
  },
  {
   "cell_type": "code",
   "execution_count": null,
   "metadata": {},
   "outputs": [],
   "source": []
  },
  {
   "cell_type": "code",
   "execution_count": null,
   "metadata": {},
   "outputs": [],
   "source": []
  },
  {
   "cell_type": "code",
   "execution_count": null,
   "metadata": {},
   "outputs": [],
   "source": []
  },
  {
   "cell_type": "code",
   "execution_count": null,
   "metadata": {},
   "outputs": [],
   "source": []
  }
 ],
 "metadata": {
  "kernelspec": {
   "display_name": "base",
   "language": "python",
   "name": "python3"
  },
  "language_info": {
   "codemirror_mode": {
    "name": "ipython",
    "version": 3
   },
   "file_extension": ".py",
   "mimetype": "text/x-python",
   "name": "python",
   "nbconvert_exporter": "python",
   "pygments_lexer": "ipython3",
   "version": "3.12.4"
  }
 },
 "nbformat": 4,
 "nbformat_minor": 2
}
