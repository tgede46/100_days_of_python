{
 "cells": [
  {
   "cell_type": "markdown",
   "metadata": {},
   "source": [
    "les listes en pyhton"
   ]
  },
  {
   "cell_type": "markdown",
   "metadata": {},
   "source": [
    "Contexte\n",
    "Vous allez maintenant explorer les bases des listes en Python en exercice. Vous apprendrez comment créer des listes, accéder à leurs éléments, les modifier, et effectuer des opérations courantes telles que l'ajout, la suppression et le tri. Cette connaissance des listes est essentielle pour manipuler et organiser des données de manière efficace dans vos programmes Python.\n",
    "\n",
    "Consignes\n",
    "Créez une liste nommée  fruits  contenant les éléments  pomme  ,  banane  et  orange  .\n",
    "\n",
    "Ajoutez  kiwi  à la liste  fruits  .\n",
    "\n",
    "Supprimez  orange  de la liste  fruits  .\n",
    "\n",
    "Modifiez le deuxième élément de la liste  fruits  en  ananas  .\n",
    "\n",
    "Affichez la longueur de la liste  fruits  .\n",
    "\n",
    "Triez la liste  fruits  par ordre alphabétique et affichez-la.\n",
    "\n"
   ]
  },
  {
   "cell_type": "code",
   "execution_count": 1,
   "metadata": {},
   "outputs": [
    {
     "name": "stdout",
     "output_type": "stream",
     "text": [
      "['pomme', 'banane', 'orange']\n"
     ]
    }
   ],
   "source": [
    "fruits = ['pomme','banane','orange']\n",
    "print(fruits)"
   ]
  },
  {
   "cell_type": "code",
   "execution_count": 3,
   "metadata": {},
   "outputs": [
    {
     "name": "stdout",
     "output_type": "stream",
     "text": [
      "['pomme', 'banane', 'orange', 'kiwi']\n"
     ]
    }
   ],
   "source": [
    "# append permet des ajouts dans une liste python\n",
    "fruits.append('kiwi')\n",
    "print(fruits)"
   ]
  },
  {
   "cell_type": "code",
   "execution_count": 4,
   "metadata": {},
   "outputs": [
    {
     "name": "stdout",
     "output_type": "stream",
     "text": [
      "['pomme', 'banane', 'kiwi']\n"
     ]
    }
   ],
   "source": [
    "#remove permet de faire la suppression\n",
    "fruits.remove('orange')\n",
    "print(fruits)"
   ]
  },
  {
   "cell_type": "code",
   "execution_count": 5,
   "metadata": {},
   "outputs": [
    {
     "name": "stdout",
     "output_type": "stream",
     "text": [
      "['pomme', 'ananas', 'kiwi']\n"
     ]
    }
   ],
   "source": [
    "fruits[1]='ananas'\n",
    "print(fruits)"
   ]
  },
  {
   "cell_type": "code",
   "execution_count": null,
   "metadata": {},
   "outputs": [
    {
     "name": "stdout",
     "output_type": "stream",
     "text": [
      "la longeur de la liste est  3\n"
     ]
    }
   ],
   "source": [
    "\n",
    "print(\"la longeur de la liste est \",len(fruits))"
   ]
  },
  {
   "cell_type": "code",
   "execution_count": null,
   "metadata": {},
   "outputs": [
    {
     "name": "stdout",
     "output_type": "stream",
     "text": [
      "['ananas', 'kiwi', 'pomme']\n"
     ]
    }
   ],
   "source": [
    "# la fonction sort() permet de faire un trie            \n",
    "fruits.sort()\n",
    "print(fruits)"
   ]
  }
 ],
 "metadata": {
  "kernelspec": {
   "display_name": "base",
   "language": "python",
   "name": "python3"
  },
  "language_info": {
   "codemirror_mode": {
    "name": "ipython",
    "version": 3
   },
   "file_extension": ".py",
   "mimetype": "text/x-python",
   "name": "python",
   "nbconvert_exporter": "python",
   "pygments_lexer": "ipython3",
   "version": "3.12.4"
  }
 },
 "nbformat": 4,
 "nbformat_minor": 2
}
