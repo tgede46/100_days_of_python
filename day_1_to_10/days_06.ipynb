{
 "cells": [
  {
   "cell_type": "markdown",
   "metadata": {},
   "source": [
    "Créez une fonction appelée  salaire_mensuel(salaire_annuel)  qui prend en paramètre un salaire annuel et retourne le salaire mensuel correspondant en divisant le salaire annuel par 12.\n",
    "\n",
    "Créez une fonction appelée  salaire_hebdomadaire(salaire_mensuel)  qui prend en paramètre un salaire mensuel et retourne le salaire hebdomadaire correspondant en divisant le salaire mensuel par 4.\n",
    "\n",
    "Créez une fonction appelée  salaire_horaire(salaire_hebdomadaire, heures_travaillees)  qui prend en paramètres un salaire hebdomadaire et le nombre d'heures travaillées par semaine, et retourne le salaire horaire correspondant en divisant le salaire hebdomadaire par le nombre d'heures travaillées par semaine.\n",
    "\n",
    "Demandez à l'utilisateur de saisir son salaire annuel.\n",
    "\n",
    "Demandez à l'utilisateur de saisir le nombre d'heures travaillées par semaine.\n",
    "\n",
    "Appelez les fonctions précédemment créées pour calculer le salaire horaire correspondant.\n",
    "\n",
    "Affichez le résultat sous la forme : \"Votre salaire horaire est de XX euros\"."
   ]
  },
  {
   "cell_type": "code",
   "execution_count": 1,
   "metadata": {},
   "outputs": [
    {
     "name": "stdout",
     "output_type": "stream",
     "text": [
      "Salaire mensuel :  381574.3333333333\n",
      "votre salaire est de 4.51567258382643 euros par heure\n"
     ]
    }
   ],
   "source": [
    "def salaire_mensuel(salaire_annuel) :\n",
    "    return salaire_annuel / 12\n",
    "\n",
    "def salaire_hebdomadaire(salaire_annuel) :\n",
    "    return salaire_annuel / 4\n",
    "\n",
    "def salaire_horaire(salaire_annuel, heures_travaillees) :\n",
    "    return salaire_annuel / (heures_travaillees * 52)\n",
    "\n",
    "salaire_annuel = float(input(\"Salaire annuel : \"))\n",
    "heures_travaillees = float(input(\"Heures travaillées par semaine : \"))\n",
    "\n",
    "print(\"Salaire mensuel : \", salaire_mensuel(salaire_annuel),\"en franc CFA\")\n",
    "\n",
    "salaire_horaire = salaire_horaire(salaire_annuel, heures_travaillees)\n",
    "salaire_horaire=salaire_horaire/650\n",
    "print(f\"votre salaire est de {salaire_horaire} euros par heure\")"
   ]
  }
 ],
 "metadata": {
  "kernelspec": {
   "display_name": "base",
   "language": "python",
   "name": "python3"
  },
  "language_info": {
   "codemirror_mode": {
    "name": "ipython",
    "version": 3
   },
   "file_extension": ".py",
   "mimetype": "text/x-python",
   "name": "python",
   "nbconvert_exporter": "python",
   "pygments_lexer": "ipython3",
   "version": "3.11.11"
  }
 },
 "nbformat": 4,
 "nbformat_minor": 2
}
