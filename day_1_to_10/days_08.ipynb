{
 "cells": [
  {
   "cell_type": "markdown",
   "metadata": {},
   "source": [
    "Exo 1 : Devine le nombre\n",
    "Ecris une fonction nommée devinette qui ne prend aucun argument. Quand on l'exécute, elle choisit un nombre aléatoire en 0 et 100 (inclus)et demande à l'utilisateur de deviner ce nombre.A chaque fois que l'utilisateur entre un nombre, le programme affiche l'une de ces phrases :\n",
    "\n",
    "Trop grand\n",
    "Trop petit\n",
    "Exact\n",
    "Si l'utilisateur a choisit correctement, le programme s'arrete. Sinon, le programme demande encore à l'utilisateur de rentrer un nouveau nombre jusqu'à ce qu'il trouve la bonne solution et s'arrête.\n",
    "\n",
    "Aide : Cherche le module random de Python pour générer un nombre aléatoirement."
   ]
  },
  {
   "cell_type": "code",
   "execution_count": 3,
   "metadata": {},
   "outputs": [
    {
     "name": "stdout",
     "output_type": "stream",
     "text": [
      "je programme permet de faire des devinettes de nomnbre entre 0 et 100\n",
      "28\n",
      "Exact\n"
     ]
    }
   ],
   "source": [
    "import random\n",
    "print(\"je programme permet de faire des devinettes de nomnbre entre 0 et 100\")\n",
    "\n",
    "# definition de la fonction devinette\n",
    "def devinnette():\n",
    "    # random.randrange(0,100) permet de generer un nombre aleatoire entre 0 et 100\n",
    "    nombre = random.randrange(0,100)\n",
    "    chois = int(input(\"choisir un nombre entre 0 et 100 :\"))\n",
    "    if chois == nombre:\n",
    "        print(\"Exact\")\n",
    "    else:\n",
    "        while chois != nombre:\n",
    "            if chois < nombre:\n",
    "                print(\"Trop petit\")\n",
    "            elif chois > nombre:\n",
    "                print(\"Trop grand\")\n",
    "            else:\n",
    "                print(\"Exact\")\n",
    "                break\n",
    "            chois = int(input(\"choisir un nombre entre 0 et 100 :\"))\n",
    "            break\n",
    "devinnette()"
   ]
  },
  {
   "cell_type": "markdown",
   "metadata": {},
   "source": [
    "Exo 2: Devine le nombre: Niveau 2\n",
    "Reprend ton code pour le programme précédent. Modifie le pour donner seulement 3 chances à l'utilisateur pour deviner le nombre aléatoire choisit. Après 3 tentatives echouées, le programme s'arrête et affiche à l'utilisateur qu'il a épuisé ses chances."
   ]
  },
  {
   "cell_type": "code",
   "execution_count": 12,
   "metadata": {},
   "outputs": [
    {
     "name": "stdout",
     "output_type": "stream",
     "text": [
      "je programme permet de faire des devinettes de nomnbre entre 0 et 100\n",
      "95\n",
      "Trop petit\n",
      "vous avez atteint le nombre maximal de tentatives\n",
      "vous avez fait  3 tentatives\n"
     ]
    }
   ],
   "source": [
    "import random\n",
    "print(\"je programme permet de faire des devinettes de nomnbre entre 0 et 100\")\n",
    "\n",
    "# definition de la fonction devinette\n",
    "def devinnette():\n",
    "    # random.randrange(0,100) permet de generer un nombre aleatoire entre 0 et 100\n",
    "    nombre = random.randint(0,100)\n",
    "    print(nombre)\n",
    "    chois = int(input(\"choisir un nombre entre 0 et 100 :\"))\n",
    "    if chois == nombre:\n",
    "        print(\"Exact\")\n",
    "        n = 1\n",
    "    else:\n",
    "        n = 1\n",
    "        while chois != nombre:\n",
    "            n += 1\n",
    "            if chois < nombre:\n",
    "                print(\"Trop petit\")\n",
    "            elif chois > nombre:\n",
    "                print(\"Trop grand\")\n",
    "            else:\n",
    "                print(\"Exact\")\n",
    "                break\n",
    "            chois = int(input(\"choisir un nombre entre 0 et 100 :\"))\n",
    "            if n == 3:\n",
    "                print(\"vous avez atteint le nombre maximal de tentatives\")\n",
    "                break\n",
    "    print(\"vous avez fait \", n, \"tentatives\")\n",
    "devinnette()"
   ]
  },
  {
   "cell_type": "markdown",
   "metadata": {},
   "source": [
    "Exo 3 : La fonction sum\n",
    "En Python, la fonction sum te permet de faire la somme des nombres d'une liste. Par exemple:\n",
    "\n",
    "nombres = [5,2,6,8,9,4]\n",
    "sum(nombres)\n",
    "34\n",
    "Dans cet exercice, nous allons réecrire cette fonction mais nous la nommerons somme. La fonction somme prend en entrée une liste de nombres et renvoie la somme de ces nombres. Ici, vous n'avez pas le droit d'utiliser la fonction sum de Python. Le but de cet exercice est d'apprendre à implémenter une fonction qui existe déjà et gagner en confiance sur nos capacités à faire des choses que d'autres programmeurs plus expérimentés ont déjà fait."
   ]
  },
  {
   "cell_type": "code",
   "execution_count": 14,
   "metadata": {},
   "outputs": [
    {
     "name": "stdout",
     "output_type": "stream",
     "text": [
      "34\n"
     ]
    }
   ],
   "source": [
    "nombres = [5,2,6,8,9,4]\n",
    "somme = 0\n",
    "for nombre in range(len(nombres)):\n",
    "    somme += nombres[nombre]\n",
    "print(somme)"
   ]
  },
  {
   "cell_type": "markdown",
   "metadata": {},
   "source": [
    "Exo 4 : Adresse email de nos employées\n",
    "Vous êtes chargé d'octroyer les emails des nouveaux employés de votre entreprise. Vous travaillez chez PythonBoss. L'adresse email de vos employés est sous le format prenom_nom@pythonboss.com. Vous souhaitez écrire un programme pour automatiser cela. La programme demande à un utilisateur son prenom, puis son nom et affiche son adresse email. Par exemple Kevin Degila aura comme adresse email : kevin_degila@pythonboss.com . Ici vous devrez remarquer que l'adresse email ne contient que des lettres miniscules: C'est la préférence du directeur de PythonBoss. Vous avez intérêt à le satisfaire."
   ]
  },
  {
   "cell_type": "code",
   "execution_count": 21,
   "metadata": {},
   "outputs": [
    {
     "name": "stdout",
     "output_type": "stream",
     "text": [
      "ce programme permet de faire des addresses email\n",
      "{'prenom': 'get', 'nom': 'ho', 'email': 'get_ho@pythonboss.com'}\n"
     ]
    }
   ],
   "source": [
    "print(\"ce programme permet de faire des addresses email\")\n",
    "def email():\n",
    "    prenom = input(\"entrer votre prenom :\").lower()\n",
    "    nom = input(\"entrer votre nom :\").lower()\n",
    "    email = prenom + \"_\" + nom + \"@pythonboss.com\"\n",
    "    personn_info = {\"prenom\": prenom, \"nom\": nom, \"email\": email}\n",
    "    print(personn_info)\n",
    "email()"
   ]
  },
  {
   "cell_type": "markdown",
   "metadata": {},
   "source": [
    "Exo 5 : Ordonner une chaine de caractères\n",
    "Dans cet exercice, vous allez écrire une fonction ordonne_str qui prend une chaîne de caractères (string) et retourne ce même string mais en l'ordonnant par ordre alphabétique.\n",
    "\n",
    "Par exemple:\n",
    "\n",
    "ordonne_str('python')\n",
    "> 'hnopty'"
   ]
  },
  {
   "cell_type": "code",
   "execution_count": 7,
   "metadata": {},
   "outputs": [
    {
     "data": {
      "text/plain": [
       "'hnopty'"
      ]
     },
     "execution_count": 7,
     "metadata": {},
     "output_type": "execute_result"
    }
   ],
   "source": [
    "def ordonne_str(phrase):\n",
    "    phrase = list(phrase)\n",
    "    caractres = sorted(phrase)\n",
    "    phrase_ordonne = \"\".join(caractres)\n",
    "    return phrase_ordonne\n",
    "ordonne_str(\"python\")\n"
   ]
  }
 ],
 "metadata": {
  "kernelspec": {
   "display_name": "base",
   "language": "python",
   "name": "python3"
  },
  "language_info": {
   "codemirror_mode": {
    "name": "ipython",
    "version": 3
   },
   "file_extension": ".py",
   "mimetype": "text/x-python",
   "name": "python",
   "nbconvert_exporter": "python",
   "pygments_lexer": "ipython3",
   "version": "3.11.11"
  }
 },
 "nbformat": 4,
 "nbformat_minor": 2
}
