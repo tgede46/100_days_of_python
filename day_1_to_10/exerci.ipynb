{
 "cells": [
  {
   "cell_type": "code",
   "execution_count": 4,
   "metadata": {},
   "outputs": [
    {
     "name": "stdout",
     "output_type": "stream",
     "text": [
      "[1, 2, 3, 5, 8, 13, 21, 34, 55, 89]\n"
     ]
    }
   ],
   "source": [
    "# cette fonction permet de retourner les n premiers termes de la suite de fibonacci\n",
    "def fubonacci(n):\n",
    "    nobre_fibonacci = [1,2]\n",
    "    for i in range(2,n):\n",
    "        nobre_fibonacci.append(nobre_fibonacci[-1]+nobre_fibonacci[-2])\n",
    "    return nobre_fibonacci\n",
    "print(fubonacci(10))"
   ]
  },
  {
   "cell_type": "code",
   "execution_count": 11,
   "metadata": {},
   "outputs": [
    {
     "name": "stdout",
     "output_type": "stream",
     "text": [
      "[1]\n",
      "[1, 1]\n",
      "[1, 2, 1]\n",
      "[1, 3, 3, 1]\n",
      "[1, 4, 6, 4, 1]\n",
      "[1, 5, 10, 10, 5, 1]\n",
      "[1, 6, 15, 20, 15, 6, 1]\n",
      "[1, 7, 21, 35, 35, 21, 7, 1]\n",
      "[1, 8, 28, 56, 70, 56, 28, 8, 1]\n",
      "[1, 9, 36, 84, 126, 126, 84, 36, 9, 1]\n"
     ]
    }
   ],
   "source": [
    "# le triangle de Pascal\n",
    "def pascal_triangle(nombre):\n",
    "    triangle = [[1]]\n",
    "    for i in range(1, nombre):\n",
    "        ajout = [1]\n",
    "        for j in range(1, len(triangle[-1])):\n",
    "            ajout.append(triangle[-1][j-1] + triangle[-1][j])\n",
    "        ajout.append(1)\n",
    "        triangle.append(ajout)\n",
    "    return triangle\n",
    "\n",
    "nombre = int(input(\"Entrer le nombre de lignes du triangle de Pascal: \"))\n",
    "for ajout in pascal_triangle(nombre):\n",
    "    print(ajout)\n",
    "\n"
   ]
  }
 ],
 "metadata": {
  "kernelspec": {
   "display_name": "base",
   "language": "python",
   "name": "python3"
  },
  "language_info": {
   "codemirror_mode": {
    "name": "ipython",
    "version": 3
   },
   "file_extension": ".py",
   "mimetype": "text/x-python",
   "name": "python",
   "nbconvert_exporter": "python",
   "pygments_lexer": "ipython3",
   "version": "3.11.11"
  }
 },
 "nbformat": 4,
 "nbformat_minor": 2
}
