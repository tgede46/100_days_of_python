{
 "cells": [
  {
   "cell_type": "markdown",
   "metadata": {},
   "source": [
    "Exo 6 : Le Francais sans Voyelle\n",
    "A quoi ressemblerait le Français sans voyelle ? Nous allons écrire une fonction qui prend une chaine de caractères et enlève les voyelles.\n",
    "\n",
    "Pour rappel, les voyelles en français sont : a e i o u y\n",
    "\n",
    "Par exemple :\n",
    "\n",
    "sans_voyelle('python')\n",
    "> 'pthn'"
   ]
  },
  {
   "cell_type": "code",
   "execution_count": 10,
   "metadata": {},
   "outputs": [
    {
     "data": {
      "text/plain": [
       "'hnpt'"
      ]
     },
     "execution_count": 10,
     "metadata": {},
     "output_type": "execute_result"
    }
   ],
   "source": [
    "def ordonne_str(phrase):\n",
    "    phrase = list(phrase)\n",
    "    phrase=[char for char in phrase if char not in 'aeiuoy']\n",
    "    caractres = sorted(phrase)\n",
    "    caractres = \"\".join(caractres)\n",
    "    return caractres\n",
    "ordonne_str(\"python\")"
   ]
  },
  {
   "cell_type": "markdown",
   "metadata": {},
   "source": [
    "Exo 7 : Des phrases sans Voyelle autre que a\n",
    "Modifie la précedente fonction pour quelle prenne desormais en entrée une phrase, c'est à dire des mots séparés par des espaces. Il enlève toutes les voyelles sauf la lettre a. Par exemple :\n",
    "\n",
    "sans_voyelle('Il fait tres beau ce matin')\n",
    "> 'l fat trs ba c matn'"
   ]
  },
  {
   "cell_type": "code",
   "execution_count": 22,
   "metadata": {},
   "outputs": [
    {
     "data": {
      "text/plain": [
       "'l fat trs ba c matn'"
      ]
     },
     "execution_count": 22,
     "metadata": {},
     "output_type": "execute_result"
    }
   ],
   "source": [
    "def sans_voyelle(phrase):\n",
    "    phrase=[char for char in phrase if char not in 'eiuoy'and char not in 'AEIOUY']\n",
    "    phrase = \"\".join(phrase)\n",
    "    return phrase\n",
    "sans_voyelle(\"Il fait tres beau ce matin\")"
   ]
  },
  {
   "cell_type": "markdown",
   "metadata": {},
   "source": [
    "Exo 8 : Début et fin des séquences\n",
    "En Python, les listes, les tuples et les strings sont des séquences. En Python, on peut écrire une fonction qui prend différents types de variables. Dans cet exercice, nous allons écrire une fonction qui prend en Entrée, une liste, un tuple ou un string et retourne une variable du même type mais avec le premier et le dernier élément de la séquence.\n",
    "\n",
    "debut_fin('deopry')\n",
    "> 'dy'\n",
    "\n",
    "debut_fin([5,2,6,9,8])\n",
    "> [5, 8]\n",
    "\n",
    "debut_fin((2,6,8,9))\n",
    "> 2,9"
   ]
  },
  {
   "cell_type": "code",
   "execution_count": 18,
   "metadata": {},
   "outputs": [
    {
     "data": {
      "text/plain": [
       "(5, 8)"
      ]
     },
     "execution_count": 18,
     "metadata": {},
     "output_type": "execute_result"
    }
   ],
   "source": [
    "def debut_fin(phrase):\n",
    "    if isinstance(phrase, str):\n",
    "        phrase= phrase[0]+phrase[-1]\n",
    "        return phrase\n",
    "    elif isinstance(phrase, list):\n",
    "        phrase = list(phrase)\n",
    "        fi = [phrase[0],phrase[-1]]\n",
    "        return fi\n",
    "    elif isinstance(phrase, tuple):\n",
    "        phrase = (phrase[0], phrase[-1])\n",
    "        return phrase\n",
    "    else:\n",
    "        return \"Erreur\"\n",
    "    \n",
    "phrase = (5,2,6,9,8)\n",
    "debut_fin(phrase)\n"
   ]
  },
  {
   "cell_type": "markdown",
   "metadata": {},
   "source": [
    "Exo 9 : Dis moi ton index, je te dirai qui tu es\n",
    "Dans cet exercice, vous allez écrire une fonction qui prend entrée, une liste de nombre et retourne une liste contenant:\n",
    "\n",
    "La somme des éléments d'index pairs\n",
    "La somme des éléments d'index impairs\n",
    "somme_pair_impair([10,20,30,40,50,60])\n",
    "> [90, 120]"
   ]
  },
  {
   "cell_type": "code",
   "execution_count": null,
   "metadata": {},
   "outputs": [],
   "source": [
    "def somme_pair_impair(liste):\n",
    "    somme_paire = sum(liste[i] for i in range(len(liste)) if i % 2 == 0)\n",
    "    somme_impaire = sum(liste[i] for i in range(len(liste)) if i % 2 != 0)\n",
    "    return [somme_paire, somme_impaire]\n",
    "\n",
    "liste = [10,20,30,40,50,60]\n",
    "somme_pair_impair(liste)\n"
   ]
  },
  {
   "cell_type": "markdown",
   "metadata": {},
   "source": [
    "Exo 10 : Mot ayant le plus de lettre répétée\n",
    "Dans cet exercice, tu es appélé à écrire une fonction mot_lettre_repetee qui prend en entrée, une liste de mots. Pour chaque mot, trouve la lettre qui se répète le plus. La focntion retourne alors le mot ayant une lettre qui se répète le plus de fois (dans ce même mot, bien sûr).\n",
    "\n",
    "mot_lettre_repetee([\"On\", \"a\", \"effectuee\", \"plusieurs\", \"tests\", \"elementaire\", \"ce\", \"matin\"])\n",
    "> \"elementaire\"\n",
    "En cas d'égalité, n'importe quelle option vraie est juste."
   ]
  },
  {
   "cell_type": "code",
   "execution_count": 49,
   "metadata": {},
   "outputs": [
    {
     "ename": "IndentationError",
     "evalue": "expected an indented block after 'if' statement on line 10 (655898286.py, line 12)",
     "output_type": "error",
     "traceback": [
      "\u001b[0;36m  Cell \u001b[0;32mIn[49], line 12\u001b[0;36m\u001b[0m\n\u001b[0;31m    print(resultat)\u001b[0m\n\u001b[0m    ^\u001b[0m\n\u001b[0;31mIndentationError\u001b[0m\u001b[0;31m:\u001b[0m expected an indented block after 'if' statement on line 10\n"
     ]
    }
   ],
   "source": [
    "def mot_lettre_repetee(mot):\n",
    "    for lettre in mot:\n",
    "        if mot.count(lettre) > 1:\n",
    "            return mot\n",
    "    return None\n",
    "\n",
    "mots = [\"On\", \"a\", \"effectuee\", \"plusieurs\", \"tests\", \"elementaire\", \"ce\", \"matin\"]\n",
    "resultat = [mot for mot in mots if mot_lettre_repetee(mot) ]\n",
    "resultat = sorted(resultat)\n",
    "if resultat == []:\n",
    "    \n",
    "print(resultat)\n",
    "\n",
    "# a revoire "
   ]
  }
 ],
 "metadata": {
  "kernelspec": {
   "display_name": "base",
   "language": "python",
   "name": "python3"
  },
  "language_info": {
   "codemirror_mode": {
    "name": "ipython",
    "version": 3
   },
   "file_extension": ".py",
   "mimetype": "text/x-python",
   "name": "python",
   "nbconvert_exporter": "python",
   "pygments_lexer": "ipython3",
   "version": "3.11.11"
  }
 },
 "nbformat": 4,
 "nbformat_minor": 2
}
