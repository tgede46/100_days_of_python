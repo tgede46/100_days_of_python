{
 "cells": [
  {
   "cell_type": "markdown",
   "metadata": {},
   "source": [
    "Exo 6 : Le Francais sans Voyelle\n",
    "A quoi ressemblerait le Français sans voyelle ? Nous allons écrire une fonction qui prend une chaine de caractères et enlève les voyelles.\n",
    "\n",
    "Pour rappel, les voyelles en français sont : a e i o u y\n",
    "\n",
    "Par exemple :\n",
    "\n",
    "sans_voyelle('python')\n",
    "> 'pthn'"
   ]
  },
  {
   "cell_type": "code",
   "execution_count": 10,
   "metadata": {},
   "outputs": [
    {
     "data": {
      "text/plain": [
       "'hnpt'"
      ]
     },
     "execution_count": 10,
     "metadata": {},
     "output_type": "execute_result"
    }
   ],
   "source": [
    "def ordonne_str(phrase):\n",
    "    phrase = list(phrase)\n",
    "    phrase=[char for char in phrase if char not in 'aeiuoy']\n",
    "    caractres = sorted(phrase)\n",
    "    caractres = \"\".join(caractres)\n",
    "    return caractres\n",
    "ordonne_str(\"python\")"
   ]
  },
  {
   "cell_type": "markdown",
   "metadata": {},
   "source": [
    "Exo 7 : Des phrases sans Voyelle autre que a\n",
    "Modifie la précedente fonction pour quelle prenne desormais en entrée une phrase, c'est à dire des mots séparés par des espaces. Il enlève toutes les voyelles sauf la lettre a. Par exemple :\n",
    "\n",
    "sans_voyelle('Il fait tres beau ce matin')\n",
    "> 'l fat trs ba c matn'"
   ]
  },
  {
   "cell_type": "code",
   "execution_count": 22,
   "metadata": {},
   "outputs": [
    {
     "data": {
      "text/plain": [
       "'l fat trs ba c matn'"
      ]
     },
     "execution_count": 22,
     "metadata": {},
     "output_type": "execute_result"
    }
   ],
   "source": [
    "def sans_voyelle(phrase):\n",
    "    phrase=[char for char in phrase if char not in 'eiuoy'and char not in 'AEIOUY']\n",
    "    phrase = \"\".join(phrase)\n",
    "    return phrase\n",
    "sans_voyelle(\"Il fait tres beau ce matin\")"
   ]
  },
  {
   "cell_type": "markdown",
   "metadata": {},
   "source": [
    "Exo 8 : Début et fin des séquences\n",
    "En Python, les listes, les tuples et les strings sont des séquences. En Python, on peut écrire une fonction qui prend différents types de variables. Dans cet exercice, nous allons écrire une fonction qui prend en Entrée, une liste, un tuple ou un string et retourne une variable du même type mais avec le premier et le dernier élément de la séquence.\n",
    "\n",
    "debut_fin('deopry')\n",
    "> 'dy'\n",
    "\n",
    "debut_fin([5,2,6,9,8])\n",
    "> [5, 8]\n",
    "\n",
    "debut_fin((2,6,8,9))\n",
    "> 2,9"
   ]
  },
  {
   "cell_type": "code",
   "execution_count": 34,
   "metadata": {},
   "outputs": [
    {
     "data": {
      "text/plain": [
       "'deoprydeopry'"
      ]
     },
     "execution_count": 34,
     "metadata": {},
     "output_type": "execute_result"
    }
   ],
   "source": [
    "def debut_fin(phrase):\n",
    "    if isinstance(phrase, str):\n",
    "        phrase= phrase[0]+phrase[-1]\n",
    "        return phrase\n",
    "    elif isinstance(phrase, list):\n",
    "        phrase = list(phrase)\n",
    "        fi = phrase[0]+phrase[-1]\n",
    "        fi = \"\".join(fi)\n",
    "        return fi\n",
    "    elif isinstance(phrase, tuple):\n",
    "        phrase = (phrase(0), phrase(-1))\n",
    "        return phrase\n",
    "    else:\n",
    "        return \"Erreur\"\n",
    "debut_fin(['deopry'])"
   ]
  }
 ],
 "metadata": {
  "kernelspec": {
   "display_name": "base",
   "language": "python",
   "name": "python3"
  },
  "language_info": {
   "codemirror_mode": {
    "name": "ipython",
    "version": 3
   },
   "file_extension": ".py",
   "mimetype": "text/x-python",
   "name": "python",
   "nbconvert_exporter": "python",
   "pygments_lexer": "ipython3",
   "version": "3.11.11"
  }
 },
 "nbformat": 4,
 "nbformat_minor": 2
}
